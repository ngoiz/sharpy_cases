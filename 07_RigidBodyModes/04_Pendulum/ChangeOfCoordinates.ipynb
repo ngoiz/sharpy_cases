{
 "cells": [
  {
   "cell_type": "markdown",
   "metadata": {},
   "source": [
    "# Change of coordinates\n",
    "\n",
    "$ \\eta = \\phi q $\n",
    "\n",
    "The objective is to find $q$, given $\\eta$"
   ]
  },
  {
   "cell_type": "code",
   "execution_count": 2,
   "metadata": {},
   "outputs": [],
   "source": [
    "import numpy as np"
   ]
  },
  {
   "cell_type": "code",
   "execution_count": 4,
   "metadata": {},
   "outputs": [
    {
     "data": {
      "text/plain": [
       "(100,)"
      ]
     },
     "execution_count": 4,
     "metadata": {},
     "output_type": "execute_result"
    }
   ],
   "source": [
    "eta = np.random.rand(100)\n",
    "eta.shape"
   ]
  },
  {
   "cell_type": "code",
   "execution_count": 7,
   "metadata": {},
   "outputs": [
    {
     "data": {
      "text/plain": [
       "(100, 10)"
      ]
     },
     "execution_count": 7,
     "metadata": {},
     "output_type": "execute_result"
    }
   ],
   "source": [
    "phi = np.random.rand(100,10)\n",
    "phi.shape"
   ]
  },
  {
   "cell_type": "markdown",
   "metadata": {},
   "source": [
    "$ \\phi^T \\phi $ and $(\\phi^T\\phi)^{-1}$"
   ]
  },
  {
   "cell_type": "code",
   "execution_count": 8,
   "metadata": {},
   "outputs": [],
   "source": [
    "ptp = phi.T.dot(phi)\n",
    "ptpi = np.linalg.inv(ptp)"
   ]
  },
  {
   "cell_type": "code",
   "execution_count": 9,
   "metadata": {},
   "outputs": [
    {
     "data": {
      "text/plain": [
       "29899022830.72601"
      ]
     },
     "execution_count": 9,
     "metadata": {},
     "output_type": "execute_result"
    }
   ],
   "source": [
    "np.linalg.det(ptp)"
   ]
  },
  {
   "cell_type": "code",
   "execution_count": 13,
   "metadata": {},
   "outputs": [
    {
     "data": {
      "text/plain": [
       "8.104245460356393e-16"
      ]
     },
     "execution_count": 13,
     "metadata": {},
     "output_type": "execute_result"
    }
   ],
   "source": [
    "np.max(np.abs(ptp.dot(ptpi)-np.eye(ptp.shape[0])))"
   ]
  },
  {
   "cell_type": "code",
   "execution_count": 14,
   "metadata": {},
   "outputs": [
    {
     "data": {
      "text/plain": [
       "1.261187224623317e-15"
      ]
     },
     "execution_count": 14,
     "metadata": {},
     "output_type": "execute_result"
    }
   ],
   "source": [
    "np.max(np.abs(ptpi.dot(ptp)-np.eye(ptp.shape[0])))"
   ]
  },
  {
   "cell_type": "markdown",
   "metadata": {},
   "source": [
    "## Find q\n",
    "\n",
    "$q = (\\phi^T\\phi)^{-1}\\phi^T\\eta$"
   ]
  },
  {
   "cell_type": "code",
   "execution_count": 15,
   "metadata": {},
   "outputs": [],
   "source": [
    "q0 = ptpi.dot(phi.T.dot(eta))"
   ]
  },
  {
   "cell_type": "code",
   "execution_count": 17,
   "metadata": {},
   "outputs": [
    {
     "data": {
      "text/plain": [
       "0.672717929293351"
      ]
     },
     "execution_count": 17,
     "metadata": {},
     "output_type": "execute_result"
    }
   ],
   "source": [
    "# Check\n",
    "np.max(np.abs(eta - phi.dot(q0)))"
   ]
  },
  {
   "cell_type": "code",
   "execution_count": 19,
   "metadata": {},
   "outputs": [
    {
     "data": {
      "text/plain": [
       "10"
      ]
     },
     "execution_count": 19,
     "metadata": {},
     "output_type": "execute_result"
    }
   ],
   "source": [
    "np.linalg.matrix_rank(phi)"
   ]
  },
  {
   "cell_type": "code",
   "execution_count": 21,
   "metadata": {},
   "outputs": [
    {
     "data": {
      "text/plain": [
       "array([1.78802286, 0.56265545, 1.46380506, 1.74289   , 2.51560365,\n",
       "       0.95129026, 0.36811867, 0.0079353 , 0.22114262, 1.27731252,\n",
       "       0.29161147, 0.27515743, 2.01256239, 3.43535721, 1.06421693,\n",
       "       0.30955228, 0.55314648, 0.64014563, 1.12160419, 0.85174349,\n",
       "       1.53087043, 2.27514664, 1.40899256, 0.74506755, 0.16538565,\n",
       "       0.49576368, 1.49652332, 1.08701031, 0.18484915, 0.11561823,\n",
       "       1.69121838, 0.01076873, 1.19749058, 0.19041555, 0.47944767,\n",
       "       0.24244702, 0.08216043, 1.02191957, 1.10052519, 1.31770919,\n",
       "       0.91275613, 2.07206708, 1.67320793, 0.84558087, 0.59390867,\n",
       "       2.22883608, 1.25913722, 0.9423397 , 1.80785318, 0.38589901,\n",
       "       0.85779852, 0.39791136, 1.16145444, 1.59527424, 1.08717024,\n",
       "       1.23083061, 1.09540723, 0.95880879, 0.90980447, 1.552717  ,\n",
       "       0.76003236, 0.71716645, 1.73563366, 0.53754135, 2.05234662,\n",
       "       0.13469017, 0.22525374, 1.44462778, 1.69553437, 2.6038134 ,\n",
       "       0.24970104, 1.53900125, 0.40383757, 0.35508657, 2.06917122,\n",
       "       2.48508533, 1.00158987, 0.16367147, 3.57396126, 0.01380761,\n",
       "       1.53998267, 1.85636368, 1.1330537 , 0.08217665, 0.86351603,\n",
       "       0.71447891, 0.96757784, 1.33223947, 1.64015818, 2.36687856,\n",
       "       0.49403164, 2.03415227, 0.7128835 , 1.14576979, 0.49147429,\n",
       "       2.62603239, 1.1788807 , 0.28734797, 0.26106817, 1.45343105])"
      ]
     },
     "execution_count": 21,
     "metadata": {},
     "output_type": "execute_result"
    }
   ],
   "source": [
    "eta/(phi.dot(q0))"
   ]
  },
  {
   "cell_type": "code",
   "execution_count": null,
   "metadata": {},
   "outputs": [],
   "source": []
  }
 ],
 "metadata": {
  "kernelspec": {
   "display_name": "Python 3",
   "language": "python",
   "name": "python3"
  },
  "language_info": {
   "codemirror_mode": {
    "name": "ipython",
    "version": 3
   },
   "file_extension": ".py",
   "mimetype": "text/x-python",
   "name": "python",
   "nbconvert_exporter": "python",
   "pygments_lexer": "ipython3",
   "version": "3.7.0"
  }
 },
 "nbformat": 4,
 "nbformat_minor": 2
}
