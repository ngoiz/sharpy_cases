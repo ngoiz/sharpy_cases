{
 "cells": [
  {
   "cell_type": "markdown",
   "metadata": {},
   "source": [
    "# Sears Test Case Plots"
   ]
  },
  {
   "cell_type": "code",
   "execution_count": 9,
   "metadata": {},
   "outputs": [],
   "source": [
    "import numpy as np\n",
    "import matplotlib.pyplot as plt\n",
    "from matplotlib import rc\n",
    "import os\n",
    "import pandas as pd\n"
   ]
  },
  {
   "cell_type": "code",
   "execution_count": 10,
   "metadata": {},
   "outputs": [],
   "source": [
    "# Set the global font to be DejaVu Sans, size 10 (or any other sans-serif font of your choice!)\n",
    "rc('font',**{'family':'sans-serif','sans-serif':['DejaVu Sans'],'size':10})\n",
    "\n",
    "# Set the font used for MathJax - more on this later\n",
    "rc('mathtext',**{'default':'regular'})"
   ]
  },
  {
   "cell_type": "code",
   "execution_count": 11,
   "metadata": {},
   "outputs": [],
   "source": [
    "%matplotlib inline"
   ]
  },
  {
   "cell_type": "code",
   "execution_count": 12,
   "metadata": {},
   "outputs": [],
   "source": [
    "def read_variables(file_name):\n",
    "    with open(file_name, 'r') as csvfile:\n",
    "        line = csv.reader(csvfile, delimiter=',')\n",
    "\n",
    "\n",
    "# Discretisation\n",
    "M = 16\n",
    "N = 80\n",
    "MstarFact = 30\n",
    "nsurf = 1\n",
    "rho = 1.225\n",
    "c_ref = 1.8288\n",
    "\n",
    "# Flight Conditions\n",
    "u_inf = 50\n",
    "alpha_deg = 0\n",
    "main_ea = 0.0\n",
    "AR = 100\n",
    "\n",
    "# Linear settings\n",
    "remove_predictor = False\n",
    "use_sparse = False\n",
    "integration_order = 2\n",
    "\n",
    "# ROM Settings\n",
    "algorithm = 'dual_rational_arnoldi'\n",
    "frequency_continuous_k = np.array([0.0])\n",
    "krylov_r = 15\n",
    "\n",
    "# Case Admin\n",
    "case_route = os.path.abspath('.')\n",
    "results_folder = case_route + '/res/'\n",
    "fig_folder = case_route + '/figs_esa/'\n",
    "os.system('mkdir -p %s' % results_folder)\n",
    "os.system('mkdir -p %s' % fig_folder)\n",
    "case_name = 'sears_uinf%04d_AR%02d_M%dN%dMs%d_KR%d_sp%i' % (u_inf, AR, M, N, MstarFact, krylov_r, use_sparse)\n",
    "#\n",
    "data = pd.read_csv(results_folder + 'freq_data_' + case_name+'.csv')\n",
    "\n",
    "Y_rom = np.zeros((len(data['kv'])))\n",
    "Y_rom += data['Y_ROM_i']*1j + data['Y_ROM_r']\n",
    "Y_rom *= u_inf / np.pi / 2 * np.exp(-1j*data['kv']*(-1.75/M)/0.5)"
   ]
  },
  {
   "cell_type": "code",
   "execution_count": 63,
   "metadata": {},
   "outputs": [],
   "source": [
    "def custom_axes(ax, xticks, xticklabels, yticks, yticklabels):\n",
    "    # ax.spines['top'].set_visible(False)\n",
    "    # ax.spines['right'].set_visible(False)\n",
    "    ax.set_xticks(xticks)\n",
    "    ax.set_xticklabels(xticklabels)\n",
    "    \n",
    "    ax.xaxis.set_tick_params(top='off', direction='out', width=1)\n",
    "    ax.yaxis.set_tick_params(right='off', direction='out', width=1)\n",
    "    \n",
    "    ax.set_yticks(yticks)\n",
    "    ax.set_yticklabels(yticklabels)"
   ]
  },
  {
   "cell_type": "code",
   "execution_count": 65,
   "metadata": {},
   "outputs": [
    {
     "data": {
      "image/png": "[encoded data removed]",
      "text/plain": [
       "<Figure size 432x288 with 2 Axes>"
      ]
     },
     "metadata": {
      "needs_background": "light"
     },
     "output_type": "display_data"
    }
   ],
   "source": [
    "fig, ax = plt.subplots(nrows=2, sharex=False)\n",
    "\n",
    "yticks1 = np.linspace(0, 1, 5)\n",
    "ytickslabels= np.linspace(0, 1, 5)\n",
    "\n",
    "xticks = np.linspace(0, 3, 7)\n",
    "xticklabels = np.linspace(0, 3, 7)\n",
    "\n",
    "ax[0].plot(data['kv'], np.abs(Y_rom))\n",
    "ax[1].plot(data['kv'], np.angle(Y_rom))\n",
    "\n",
    "custom_axes(ax[0], xticks, xticklabels, yticks1, ytickslabels)\n",
    "custom_axes(ax[1], xticks, xticklabels, yticks1, ytickslabels)\n",
    "\n",
    "\n"
   ]
  },
  {
   "cell_type": "code",
   "execution_count": null,
   "metadata": {},
   "outputs": [],
   "source": []
  },
  {
   "cell_type": "code",
   "execution_count": null,
   "metadata": {},
   "outputs": [],
   "source": []
  }
 ],
 "metadata": {
  "kernelspec": {
   "display_name": "Python 3",
   "language": "python",
   "name": "python3"
  },
  "language_info": {
   "codemirror_mode": {
    "name": "ipython",
    "version": 3
   },
   "file_extension": ".py",
   "mimetype": "text/x-python",
   "name": "python",
   "nbconvert_exporter": "python",
   "pygments_lexer": "ipython3",
   "version": "3.7.0"
  }
 },
 "nbformat": 4,
 "nbformat_minor": 2
}
