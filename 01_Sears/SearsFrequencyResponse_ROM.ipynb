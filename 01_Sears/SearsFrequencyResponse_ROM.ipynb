{
 "cells": [
  {
   "cell_type": "markdown",
   "metadata": {},
   "source": [
    "# Sears' Gust Frequency Response with SHARPy\n",
    "\n",
    "This example script will illustrate the process for obtaining the frequency response of a very large aspect ratio flat plate subject to a sinusoidal gust using SHARPy. The results will be compared to the closed for solution for a 2D airfoil developed by Sears (1).\n",
    "\n",
    "Given the large system, we will also turn to Krylov methods for model reduction, to efficiently compute the frequency response.\n",
    "\n",
    "(1) - SHARPy is inherently a 3D solver and 2D solutions are approximated by very large aspect ratio wings that require high discretisations in order to achieve convergence."
   ]
  },
  {
   "cell_type": "code",
   "execution_count": 1,
   "metadata": {},
   "outputs": [],
   "source": [
    "# Packages:\n",
    "import os\n",
    "import sys\n",
    "sys.path.append('~/code/sharpy/')\n",
    "\n",
    "import numpy as np\n",
    "import matplotlib.pyplot as plt\n",
    "import scipy as sc\n",
    "\n",
    "import cases.templates.flying_wings as wings\n",
    "import sharpy.sharpy_main\n",
    "import sharpy.linear.src.lin_aeroelastic as linaeroela\n",
    "import sharpy.linear.src.linuvlm as linuvlm\n",
    "import sharpy.linear.src.libsparse as libsp\n",
    "import sharpy.linear.src.libss as libss\n",
    "import sharpy.rom.krylovreducedordermodel as krylovrom\n",
    "import sharpy.rom.frequencyresponseplot as freqplot\n",
    "import sharpy.utils.analytical as analytical\n",
    "\n",
    "def save_variables(file_name, vars, var_title):\n",
    "    fid = open(file_name, 'w')\n",
    "\n",
    "    title_line = len(var_title)*'%s,' % var_title\n",
    "\n",
    "    fid.write(title_line+'\\n')\n",
    "\n",
    "    for elem in range(vars[0].shape[0]):\n",
    "        # var_line = len(var_title)*'%8f\\t' % tuple(var_title[elem, :])\n",
    "        vars_in_line = []\n",
    "        vars_in_line.append([vars[i][elem] for i in range(len(var_title))])\n",
    "        # print(vars_in_line[0])\n",
    "        var_line = ''.join('%f,' % item for item in vars_in_line[0])\n",
    "        # print(var_line)\n",
    "        fid.write(var_line+'\\n')\n",
    "\n",
    "    fid.close()"
   ]
  },
  {
   "cell_type": "markdown",
   "metadata": {},
   "source": [
    "## Set up the case parameters\n",
    "\n",
    "Discretisation needs to be high - caution on resources"
   ]
  },
  {
   "cell_type": "code",
   "execution_count": 2,
   "metadata": {},
   "outputs": [],
   "source": [
    "# Discretisation\n",
    "M = 16\n",
    "N = 80 # Warning. Can take a LOOONG time!\n",
    "MstarFact = 10\n",
    "nsurf = 1\n",
    "rho = 1.225\n",
    "\n",
    "# Flight Conditions\n",
    "u_inf = 5\n",
    "alpha_deg = 0\n",
    "main_ea = 0.0\n",
    "AR = 100\n",
    "\n",
    "# Linear settings\n",
    "remove_predictor = False\n",
    "use_sparse = False\n",
    "integration_order = 2\n",
    "\n",
    "# ROM Settings\n",
    "algorithm = 'dual_rational_arnoldi'\n",
    "frequency_continuous_k = np.array([0.0])\n",
    "krylov_r = 20\n",
    "\n",
    "# Case Admin\n",
    "case_route = os.path.abspath('.')\n",
    "results_folder = case_route + '/res/'\n",
    "fig_folder = case_route + '/figs/'\n",
    "os.system('mkdir -p %s' % results_folder)\n",
    "os.system('mkdir -p %s' % fig_folder)\n",
    "case_name = 'sears_uinf%04d_AR%02d_M%dN%dMs%d_KR%d' % (u_inf, AR, M, N, MstarFact, krylov_r)"
   ]
  },
  {
   "cell_type": "markdown",
   "metadata": {},
   "source": [
    "## Create Wing\n",
    "\n",
    "Using SHARPy's templates"
   ]
  },
  {
   "cell_type": "code",
   "execution_count": 3,
   "metadata": {},
   "outputs": [],
   "source": [
    "# Wing model\n",
    "ws = wings.Goland(M=M,\n",
    "                         N=N,\n",
    "                         Mstar_fact=MstarFact,\n",
    "                         n_surfaces=nsurf,\n",
    "                         u_inf=u_inf,\n",
    "                         rho = rho,\n",
    "                         alpha=alpha_deg,\n",
    "                         aspect_ratio=AR,\n",
    "                         route=results_folder,\n",
    "                         case_name=case_name)\n",
    "\n",
    "ws.main_ea = main_ea\n",
    "ws.clean_test_files()\n",
    "ws.update_derived_params()\n",
    "ws.generate_fem_file()\n",
    "ws.generate_aero_file()\n",
    "\n",
    "# Solution settings\n",
    "\n",
    "ws.set_default_config_dict()\n",
    "ws.config['SHARPy']['flow'] = ['BeamLoader', 'AerogridLoader', 'Modal', 'StaticUvlm', 'BeamPlot','AerogridPlot']\n",
    "\n",
    "ws.config['LinearUvlm'] = {'dt': ws.dt,\n",
    "                           'integr_order': integration_order,\n",
    "                           'density': ws.rho,\n",
    "                           'remove_predictor': remove_predictor,\n",
    "                           'use_sparse': use_sparse,\n",
    "                           'ScalingDict': {'length': 1.,\n",
    "                                           'speed': 1.,\n",
    "                                           'density': 1.}}\n",
    "ws.config['Modal']['NumLambda'] = 40\n",
    "ws.config['Modal']['keep_linear_matrices'] = 'on'\n",
    "ws.config['Modal']['use_undamped_modes'] = True\n",
    "ws.config.write()"
   ]
  },
  {
   "cell_type": "markdown",
   "metadata": {},
   "source": [
    "## Nonlinear reference solution"
   ]
  },
  {
   "cell_type": "code",
   "execution_count": null,
   "metadata": {},
   "outputs": [
    {
     "name": "stderr",
     "output_type": "stream",
     "text": [
      "/home/ng213/anaconda3/envs/sharpy_env/lib/python3.7/site-packages/h5py/_hl/dataset.py:313: H5pyDeprecationWarning: dataset.value has been deprecated. Use dataset[()] instead.\n",
      "  \"Use dataset[()] instead.\", H5pyDeprecationWarning)\n",
      "/home/ng213/code/sharpy/sharpy/solvers/modal.py:288: RuntimeWarning: invalid value encountered in sqrt\n",
      "  freq_natural = np.sqrt(eigenvalues)\n"
     ]
    }
   ],
   "source": [
    "data = sharpy.sharpy_main.main(['...', results_folder + case_name + '.solver.txt'])\n",
    "tsaero = data.aero.timestep_info[-1]\n",
    "tsstruct = data.structure.timestep_info[-1]"
   ]
  },
  {
   "cell_type": "markdown",
   "metadata": {},
   "source": [
    "## Linearised UVLM System"
   ]
  },
  {
   "cell_type": "code",
   "execution_count": null,
   "metadata": {},
   "outputs": [],
   "source": [
    "# Linearisation parameters\n",
    "dt = ws.dt\n",
    "tsaero.rho = ws.rho\n",
    "scaling_factors = {'length': 1,#0.5*ws.c_ref,\n",
    "                   'speed': 1,#u_inf,\n",
    "                   'density': 1}#ws.rho}\n",
    "\n",
    "# Linearise UVLM\n",
    "aeroelastic_system = linaeroela.LinAeroEla(data)\n",
    "uvlm = aeroelastic_system.linuvlm\n",
    "uvlm.assemble_ss()\n",
    "aeroelastic_system.get_gebm2uvlm_gains()\n",
    "\n",
    "# Remove lattice coordinates and velocities from the inputs to the system\n",
    "uvlm.SS.B = libsp.csc_matrix(uvlm.SS.B[:, -uvlm.Kzeta:])\n",
    "uvlm.SS.D = libsp.csc_matrix(uvlm.SS.D[:, -uvlm.Kzeta:])"
   ]
  },
  {
   "cell_type": "markdown",
   "metadata": {},
   "source": [
    "## Gust Generator\n",
    "\n",
    "We would like to define the gust at a particular location, for instance the leading edge. Therefore, that information must propagate downstream at the freestream velocity to reach the remainder of the airfoil.\n",
    "\n",
    "If the gust velocity is orthogonal to the freestream, as is the case for this gust, a simple discrete time linear time invariant system can be created, which will receive the input at the leading edge and output the corresponding velocity at the chordwise wing nodes downstream.\n",
    "\n",
    "This output will present the gust velocity at a single location along the span, so a gain will be necessary to map that information uniformly across the whole span."
   ]
  },
  {
   "cell_type": "code",
   "execution_count": null,
   "metadata": {},
   "outputs": [],
   "source": [
    "A_gust = np.zeros((M+1, M+1))\n",
    "A_gust[1:, :-1] = np.eye(M)\n",
    "B_gust = np.zeros((M+1, ))\n",
    "B_gust[0] = 1\n",
    "C_gust = np.eye(M+1)\n",
    "D_gust = np.zeros_like(B_gust)\n",
    "ss_gust = libss.ss(A_gust, B_gust, C_gust, D_gust, dt=ws.dt)"
   ]
  },
  {
   "cell_type": "code",
   "execution_count": null,
   "metadata": {},
   "outputs": [],
   "source": [
    "# Gain to get uz at single chordwise position across entire span\n",
    "K_lattice_gust = np.zeros((uvlm.SS.inputs, ss_gust.outputs))\n",
    "for i in range(M+1):\n",
    "    K_lattice_gust[i*(N+1):(i+1)*(N+1), i] = np.ones((N+1,))\n",
    "\n",
    "# Add gain to gust generator\n",
    "ss_gust.addGain(K_lattice_gust, where='out')"
   ]
  },
  {
   "cell_type": "markdown",
   "metadata": {},
   "source": [
    "## UVLM Output\n",
    "\n",
    "The linear UVLM system outputs the forces and moments at the lattice coordinates in the inertial frame. We must include a gain to condense them into a single vertical component in the A frame.\n",
    "\n",
    "First, the lattice forces and moments are mapped onto the beam by means of the Kforces matrix. Thence, the nodal forces and moments are converted into a force coefficient."
   ]
  },
  {
   "cell_type": "code",
   "execution_count": null,
   "metadata": {},
   "outputs": [],
   "source": [
    "# UVLM - output: obtain vertical force\n",
    "uvlm.SS.addGain(aeroelastic_system.Kforces, where='out')\n",
    "\n",
    "K_Fz = np.zeros((1,aeroelastic_system.Kforces.shape[0]))\n",
    "# Output - Vertical force coefficient\n",
    "\n",
    "qS = 0.5 * ws.rho * u_inf ** 2 * ws.wing_span * ws.c_ref\n",
    "\n",
    "wdof = 0\n",
    "for node in range(data.structure.num_node):\n",
    "\n",
    "    node_bc = data.structure.boundary_conditions[node]\n",
    "    if node_bc != 1:\n",
    "        node_ndof = 6\n",
    "        vertical_force_index = np.array([0, 0, 1, 0, 0, 0]) / qS\n",
    "        K_Fz[:, wdof: wdof + node_ndof] = vertical_force_index\n",
    "    else:\n",
    "        node_ndof = 0\n",
    "\n",
    "    wdof += node_ndof\n",
    "\n",
    "uvlm.SS.addGain(K_Fz, where='out')"
   ]
  },
  {
   "cell_type": "markdown",
   "metadata": {},
   "source": [
    "## Combine the Gust and the UVLM systems\n",
    "\n",
    "We now have a single input single output system with the following steps in between:\n",
    "\n",
    "u_gust -> GUST -> gust along single chord -> K_lattice_gust -> gust velocity across span -> UVLM -> lattice forces -> Kforces -> nodal forces -> K_Fz -> vertical force coefficient"
   ]
  },
  {
   "cell_type": "code",
   "execution_count": null,
   "metadata": {},
   "outputs": [],
   "source": [
    "sears_ss = libss.series(ss_gust, uvlm.SS)"
   ]
  },
  {
   "cell_type": "markdown",
   "metadata": {},
   "source": [
    "## Model Order Reduction using Krylov Methods\n",
    "\n",
    "The resulting SISO system has a very large number of states (~50^4) if convergence to the 2D result is desired and would normally require significant memory and time to compute the frequency response. Therefore, a ROM of the system is created using Krylov methods, based on the Arnoldi iteration around a single expansion point at zero-frequency, also known as a Pade approximation."
   ]
  },
  {
   "cell_type": "code",
   "execution_count": null,
   "metadata": {},
   "outputs": [],
   "source": [
    "rom = krylovrom.KrylovReducedOrderModel()\n",
    "rom.initialise(data, sears_ss)\n",
    "frequency_continuous_w = 2 * u_inf * frequency_continuous_k / ws.c_ref\n",
    "frequency_dt = np.exp(frequency_continuous_k*dt)\n",
    "rom.run(algorithm, krylov_r, frequency_dt)"
   ]
  },
  {
   "cell_type": "markdown",
   "metadata": {},
   "source": [
    "## Frequency Analysis"
   ]
  },
  {
   "cell_type": "code",
   "execution_count": null,
   "metadata": {},
   "outputs": [],
   "source": [
    "ds = 2. / M\n",
    "fs = 1. / ds\n",
    "fn = fs / 2.\n",
    "ks = 2. * np.pi * fs\n",
    "kn = 2. * np.pi * fn\n",
    "Nk = 151\n",
    "kv = np.linspace(0.01, 3, Nk)\n",
    "wv = 2. * u_inf / ws.c_ref * kv"
   ]
  },
  {
   "cell_type": "code",
   "execution_count": null,
   "metadata": {},
   "outputs": [],
   "source": [
    "Y_analytical = analytical.sears_fun(kv)\n",
    "Y_freq_resp_rom = libss.freqresp(rom.ssrom, wv)"
   ]
  },
  {
   "cell_type": "markdown",
   "metadata": {},
   "source": [
    "### Kussner \n",
    "\n",
    "\n",
    "\n"
   ]
  },
  {
   "cell_type": "code",
   "execution_count": null,
   "metadata": {},
   "outputs": [],
   "source": [
    "sc_kussner_A = sears_ss.A\n",
    "sc_kussner_B = sears_ss.B\n",
    "sc_kussner_C = sears_ss.C\n",
    "sc_kussner_D = sears_ss.D\n",
    "\n",
    "dlti_kussner = sc.signal.dlti(sc_kussner_A, sc_kussner_B, sc_kussner_C, sc_kussner_D, dt=dt)\n",
    "\n",
    "Nsteps = 1000\n",
    "t_dom = np.linspace(0, dt*Nsteps, Nsteps+1)\n",
    "\n",
    "out = sc.signal.dlti(dlti_kussner, t_dom)"
   ]
  },
  {
   "cell_type": "markdown",
   "metadata": {},
   "source": [
    "## Save results\n",
    "\n",
    "Given the significant computational time to carry out the above, it is best to save the resulting frequency data to postprocess in a different routine."
   ]
  },
  {
   "cell_type": "code",
   "execution_count": null,
   "metadata": {},
   "outputs": [],
   "source": [
    "save_variables(results_folder + 'freq_data_' + case_name + '.csv', [wv, kv, Y_analytical.real, Y_analytical.imag, Y_freq_resp_rom[0,0,:].real, Y_freq_resp_rom[0,0,:].imag],\n",
    "('wv', 'kv', 'Y_sears_r', 'Y_sears_i', 'Y_ROM_r', 'Y_ROM_i'))"
   ]
  },
  {
   "cell_type": "code",
   "execution_count": null,
   "metadata": {},
   "outputs": [],
   "source": []
  }
 ],
 "metadata": {
  "kernelspec": {
   "display_name": "Python 3",
   "language": "python",
   "name": "python3"
  },
  "language_info": {
   "codemirror_mode": {
    "name": "ipython",
    "version": 3
   },
   "file_extension": ".py",
   "mimetype": "text/x-python",
   "name": "python",
   "nbconvert_exporter": "python",
   "pygments_lexer": "ipython3",
   "version": "3.7.0"
  }
 },
 "nbformat": 4,
 "nbformat_minor": 2
}
