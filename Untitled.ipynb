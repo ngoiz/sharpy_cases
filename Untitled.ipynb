{
 "cells": [
  {
   "cell_type": "code",
   "execution_count": 1,
   "metadata": {},
   "outputs": [],
   "source": [
    "import pandas as pd\n",
    "import numpy as np\n",
    "import matplotlib.pyplot as plt\n",
    "%matplotlib inline"
   ]
  },
  {
   "cell_type": "code",
   "execution_count": 7,
   "metadata": {},
   "outputs": [],
   "source": [
    "route = './05_HALE/output'\n",
    "evecs = pd.read_csv(route + '/eigenvectors.csv')\n",
    "evals = pd.read_csv(route + '/eigenvalues.csv')\n",
    "vec1 = pd.read_csv(route + '/aero_evecs_0000.csv')"
   ]
  },
  {
   "cell_type": "code",
   "execution_count": 11,
   "metadata": {},
   "outputs": [
    {
     "data": {
      "text/plain": [
       "'[[0.00467121+0.j 0.00466641+0.j 0.00465623+0.j 0.00463922+0.j\\n  0.00461242+0.j 0.00456979+0.j 0.004498  +0.j 0.00436145+0.j\\n  0.00411005+0.j 0.00382329+0.j 0.00334439+0.j 0.00239035+0.j]\\n [0.00721348+0.j 0.00720641+0.j 0.00719141+0.j 0.00716635+0.j\\n  0.00712683+0.j 0.00706391+0.j 0.00695775+0.j 0.00675574+0.j\\n  0.00637303+0.j 0.00593673+0.j 0.00521045+0.j 0.0037343 +0.j]\\n [0.00931052+0.j 0.00930186+0.j 0.00928349+0.j 0.00925277+0.j\\n  0.00920432+0.j 0.00912709+0.j 0.00899657+0.j 0.00874798+0.j\\n  0.00826075+0.j 0.00770905+0.j 0.00679382+0.j 0.0048936 +0.j]\\n [0.0112594 +0.j 0.01124952+0.j 0.01122856+0.j 0.01119351+0.j\\n  0.0111382 +0.j 0.01104995+0.j 0.01090057+0.j 0.01061566+0.j\\n  0.01003388+0.j 0.00938491+0.j 0.0083122 +0.j 0.00603423+0.j]\\n [0.01319879+0.j 0.01318797+0.j 0.01316497+0.j 0.01312652+0.j\\n  0.01306582+0.j 0.01296889+0.j 0.01280457+0.j 0.01249047+0.j\\n  0.01181598+0.j 0.0110827 +0.j 0.00987537+0.j 0.00724956+0.j]\\n [0.01524409+0.j 0.01523253+0.j 0.01520796+0.j 0.01516686+0.j\\n  0.01510198+0.j 0.0149983 +0.j 0.01482226+0.j 0.01448477+0.j\\n  0.01371249+0.j 0.01290602+0.j 0.01158397+0.j 0.00863481+0.j]\\n [0.01755661+0.j 0.01754451+0.j 0.01751879+0.j 0.01747575+0.j\\n  0.0174078 +0.j 0.01729916+0.j 0.01711445+0.j 0.01675882+0.j\\n  0.01587402+0.j 0.01500527+0.j 0.01358804+0.j 0.01033902+0.j]\\n [0.02051205+0.j 0.02049963+0.j 0.02047319+0.j 0.02042898+0.j\\n  0.02035916+0.j 0.0202475 +0.j 0.02005739+0.j 0.01968911+0.j\\n  0.01865532+0.j 0.01773587+0.j 0.01624442+0.j 0.01271599+0.j]]'"
      ]
     },
     "execution_count": 11,
     "metadata": {},
     "output_type": "execute_result"
    }
   ],
   "source": [
    "vec1['0'][0]"
   ]
  },
  {
   "cell_type": "code",
   "execution_count": null,
   "metadata": {},
   "outputs": [],
   "source": []
  }
 ],
 "metadata": {
  "kernelspec": {
   "display_name": "Python 3",
   "language": "python",
   "name": "python3"
  },
  "language_info": {
   "codemirror_mode": {
    "name": "ipython",
    "version": 3
   },
   "file_extension": ".py",
   "mimetype": "text/x-python",
   "name": "python",
   "nbconvert_exporter": "python",
   "pygments_lexer": "ipython3",
   "version": "3.7.0"
  }
 },
 "nbformat": 4,
 "nbformat_minor": 2
}
