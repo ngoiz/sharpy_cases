{
 "cells": [
  {
   "cell_type": "markdown",
   "metadata": {},
   "source": [
    "# Rotations"
   ]
  },
  {
   "cell_type": "code",
   "execution_count": 1,
   "metadata": {},
   "outputs": [],
   "source": [
    "import os\n",
    "import sys\n",
    "sys.path.append('/home/ng213/code/sharpy')\n",
    "import numpy as np\n",
    "import sharpy.utils.algebra as algebra"
   ]
  },
  {
   "cell_type": "code",
   "execution_count": 2,
   "metadata": {},
   "outputs": [],
   "source": [
    "i = np.array([1, 0, 0])\n",
    "j = np.array([0, 1, 0])\n",
    "k = np.array([0, 0, 1])"
   ]
  },
  {
   "cell_type": "markdown",
   "metadata": {},
   "source": [
    "## Rotation matrices with quaternions\n",
    "\n",
    "Understand quat to rotation matrices"
   ]
  },
  {
   "cell_type": "code",
   "execution_count": 3,
   "metadata": {},
   "outputs": [],
   "source": [
    "euler_rot_angle = np.array([0,90,0])*np.pi/180"
   ]
  },
  {
   "cell_type": "code",
   "execution_count": 4,
   "metadata": {},
   "outputs": [
    {
     "name": "stdout",
     "output_type": "stream",
     "text": [
      "[0.70710678 0.         0.70710678 0.        ]\n"
     ]
    }
   ],
   "source": [
    "quat_new = algebra.euler2quat_ag(euler_rot_angle)\n",
    "print(quat_new)"
   ]
  },
  {
   "cell_type": "code",
   "execution_count": 5,
   "metadata": {},
   "outputs": [
    {
     "name": "stdout",
     "output_type": "stream",
     "text": [
      "[0.70710678 0.         0.70710678 0.        ]\n"
     ]
    }
   ],
   "source": [
    "quat_old = algebra.euler2quat(euler_rot_angle)\n",
    "print(quat_old)"
   ]
  },
  {
   "cell_type": "code",
   "execution_count": 6,
   "metadata": {},
   "outputs": [],
   "source": [
    "Cga_new = algebra.quat2rotation(quat_new)\n",
    "Cga_old = algebra.quat2rotation(quat_old)"
   ]
  },
  {
   "cell_type": "code",
   "execution_count": 7,
   "metadata": {},
   "outputs": [],
   "source": [
    "aircraft_nose = np.array([1, 0, 0])"
   ]
  },
  {
   "cell_type": "code",
   "execution_count": 8,
   "metadata": {},
   "outputs": [
    {
     "data": {
      "text/plain": [
       "array([2.22044605e-16, 0.00000000e+00, 1.00000000e+00])"
      ]
     },
     "execution_count": 8,
     "metadata": {},
     "output_type": "execute_result"
    }
   ],
   "source": [
    "Cga_new.T.dot(aircraft_nose)"
   ]
  },
  {
   "cell_type": "code",
   "execution_count": 9,
   "metadata": {},
   "outputs": [
    {
     "data": {
      "text/plain": [
       "array([2.22044605e-16, 0.00000000e+00, 1.00000000e+00])"
      ]
     },
     "execution_count": 9,
     "metadata": {},
     "output_type": "execute_result"
    }
   ],
   "source": [
    "Cga_old.T.dot(aircraft_nose)"
   ]
  },
  {
   "cell_type": "markdown",
   "metadata": {},
   "source": [
    "# From an Euler angle to a Quaternion\n",
    "\n",
    "## Current Implementation \n",
    "As currently implemented in SHARPy, the routine goes as:\n",
    "* `euler2quat()`\n",
    "    - `Cag = euler2rot(euler)` \n",
    "        + `euler2rot` uses the three rotation matrices, where the y-axis one (pitch) is transposed\n",
    "    - `quat = rotation2quat(Cag.T)`\n",
    "    "
   ]
  },
  {
   "cell_type": "code",
   "execution_count": 10,
   "metadata": {},
   "outputs": [
    {
     "name": "stdout",
     "output_type": "stream",
     "text": [
      "[0.         1.57079633 0.        ]\n"
     ]
    }
   ],
   "source": [
    "euler = np.array([0, 90, 0]) * np.pi / 180\n",
    "print(euler)"
   ]
  },
  {
   "cell_type": "code",
   "execution_count": 11,
   "metadata": {},
   "outputs": [
    {
     "name": "stdout",
     "output_type": "stream",
     "text": [
      "[[ 6.123234e-17  0.000000e+00  1.000000e+00]\n",
      " [ 0.000000e+00  1.000000e+00  0.000000e+00]\n",
      " [-1.000000e+00  0.000000e+00  6.123234e-17]]\n"
     ]
    }
   ],
   "source": [
    "Cag = algebra.euler2rot(euler)\n",
    "print(Cag)"
   ]
  },
  {
   "cell_type": "code",
   "execution_count": 28,
   "metadata": {},
   "outputs": [
    {
     "name": "stdout",
     "output_type": "stream",
     "text": [
      "[0.70710678 0.         0.70710678 0.        ]\n"
     ]
    }
   ],
   "source": [
    "q = algebra.rotation2quat(Cag)\n",
    "print(q)"
   ]
  },
  {
   "cell_type": "markdown",
   "metadata": {},
   "source": [
    "## New implementation\n",
    "\n",
    "* `euler2quat_ag()`\n",
    "    - `Cag = euler2rot_ag(euler)` \n",
    "        + `euler2rot` uses the three rotation matrices, with the rotations consistent with a right hand, SEU frame\n",
    "    - `quat = rotation2quat(Cag)`"
   ]
  },
  {
   "cell_type": "code",
   "execution_count": 13,
   "metadata": {},
   "outputs": [
    {
     "name": "stdout",
     "output_type": "stream",
     "text": [
      "[0.         1.57079633 0.        ]\n"
     ]
    }
   ],
   "source": [
    "print(euler)"
   ]
  },
  {
   "cell_type": "code",
   "execution_count": 14,
   "metadata": {},
   "outputs": [
    {
     "name": "stdout",
     "output_type": "stream",
     "text": [
      "[[ 6.123234e-17  0.000000e+00  1.000000e+00]\n",
      " [ 0.000000e+00  1.000000e+00  0.000000e+00]\n",
      " [-1.000000e+00  0.000000e+00  6.123234e-17]]\n"
     ]
    }
   ],
   "source": [
    "Cag = algebra.euler2rotation_ag(euler)\n",
    "print(Cag)"
   ]
  },
  {
   "cell_type": "code",
   "execution_count": 15,
   "metadata": {},
   "outputs": [
    {
     "name": "stdout",
     "output_type": "stream",
     "text": [
      "[0.70710678 0.         0.70710678 0.        ]\n"
     ]
    }
   ],
   "source": [
    "q = algebra.rotation2quat(Cag)\n",
    "print(q)"
   ]
  },
  {
   "cell_type": "markdown",
   "metadata": {},
   "source": [
    "## Analytical Rotation Matrix"
   ]
  },
  {
   "cell_type": "code",
   "execution_count": 16,
   "metadata": {},
   "outputs": [],
   "source": [
    "def Cag_analytical(euler):\n",
    "    phi = euler[0]\n",
    "    theta = euler[1]\n",
    "    psi = euler[2]\n",
    "    \n",
    "    cp = np.cos(phi)\n",
    "    sp = np.sin(phi)\n",
    "    \n",
    "    ct = np.cos(theta)\n",
    "    st = np.sin(theta)\n",
    "    \n",
    "    cs = np.cos(psi)\n",
    "    ss = np.sin(psi)\n",
    "    \n",
    "    Cag = np.zeros((3,3))\n",
    "    \n",
    "    Cag[0, 0] = ct*cs\n",
    "    Cag[0, 1] = -ct*ss\n",
    "    Cag[0, 2] = st\n",
    "    \n",
    "    Cag[1, 0] = cp*ss + sp*st*cs\n",
    "    Cag[1, 1] = cp*cs - sp*st*ss\n",
    "    Cag[1, 2] = -sp*ct\n",
    "    \n",
    "    Cag[2, 0] = sp*ss - cp*st*cs\n",
    "    Cag[2, 1] = sp*cs + cp*st*ss\n",
    "    Cag[2, 2] = cp*ct\n",
    "    \n",
    "    return Cag"
   ]
  },
  {
   "cell_type": "code",
   "execution_count": 17,
   "metadata": {},
   "outputs": [],
   "source": [
    "def Cag_n(euler):\n",
    "    phi = euler[0]\n",
    "    theta = euler[1]\n",
    "    psi = euler[2]\n",
    "    \n",
    "    cp = np.cos(phi)\n",
    "    sp = np.sin(phi)\n",
    "    \n",
    "    ct = np.cos(theta)\n",
    "    st = np.sin(theta)\n",
    "    \n",
    "    cs = np.cos(psi)\n",
    "    ss = np.sin(psi)\n",
    "    \n",
    "    Cag = np.zeros((3,3))\n",
    "    \n",
    "    Cag = algebra.rotation3d_x(phi).dot(algebra.rotation3d_y_ag(theta).dot(algebra.rotation3d_z(psi)))\n",
    "    \n",
    "    return Cag"
   ]
  },
  {
   "cell_type": "code",
   "execution_count": 18,
   "metadata": {},
   "outputs": [
    {
     "data": {
      "text/plain": [
       "array([[ 0.0000000e+00,  0.0000000e+00,  0.0000000e+00],\n",
       "       [-6.9388939e-18,  0.0000000e+00,  0.0000000e+00],\n",
       "       [ 0.0000000e+00,  0.0000000e+00,  0.0000000e+00]])"
      ]
     },
     "execution_count": 18,
     "metadata": {},
     "output_type": "execute_result"
    }
   ],
   "source": [
    "euler = np.array([20, 10, -5])*np.pi/180\n",
    "\n",
    "Cag_n(euler) - Cag_analytical(euler)"
   ]
  },
  {
   "cell_type": "code",
   "execution_count": 19,
   "metadata": {},
   "outputs": [],
   "source": [
    "r = -k"
   ]
  },
  {
   "cell_type": "code",
   "execution_count": 20,
   "metadata": {},
   "outputs": [],
   "source": [
    "rot5 = np.array([0, 5, 0])*np.pi/180"
   ]
  },
  {
   "cell_type": "code",
   "execution_count": 21,
   "metadata": {},
   "outputs": [
    {
     "data": {
      "text/plain": [
       "array([-0.08715574,  0.        , -0.9961947 ])"
      ]
     },
     "execution_count": 21,
     "metadata": {},
     "output_type": "execute_result"
    }
   ],
   "source": [
    "Cag_n(rot5).dot(r)"
   ]
  },
  {
   "cell_type": "code",
   "execution_count": 22,
   "metadata": {},
   "outputs": [
    {
     "data": {
      "text/plain": [
       "array([-0.08715574,  0.        , -0.9961947 ])"
      ]
     },
     "execution_count": 22,
     "metadata": {},
     "output_type": "execute_result"
    }
   ],
   "source": [
    "algebra.euler2rotation_ag(rot5).dot(r)"
   ]
  },
  {
   "cell_type": "code",
   "execution_count": 23,
   "metadata": {},
   "outputs": [
    {
     "data": {
      "text/plain": [
       "array([-0.08715574,  0.        , -0.9961947 ])"
      ]
     },
     "execution_count": 23,
     "metadata": {},
     "output_type": "execute_result"
    }
   ],
   "source": [
    "algebra.euler2rot(rot5).dot(r)"
   ]
  },
  {
   "cell_type": "markdown",
   "metadata": {},
   "source": [
    "## Propagation equations"
   ]
  },
  {
   "cell_type": "code",
   "execution_count": 24,
   "metadata": {},
   "outputs": [],
   "source": [
    "def prop_euler_to_rot(euler):\n",
    "    phi = euler[0]\n",
    "    theta = euler[1]\n",
    "    psi = euler[2]\n",
    "    \n",
    "    cp = np.cos(phi)\n",
    "    sp = np.sin(phi)\n",
    "    \n",
    "    ct = np.cos(theta)\n",
    "    st = np.sin(theta)\n",
    "    \n",
    "    cs = np.cos(psi)\n",
    "    ss = np.sin(psi)\n",
    "    \n",
    "    RE = np.zeros((3,3))\n",
    "    \n",
    "    RE[0, 0] = 1\n",
    "    RE[0, 2] = st\n",
    "    RE[1, 1] = cp\n",
    "    RE[1, 2] = -sp*ct\n",
    "    RE[2, 1] = sp\n",
    "    RE[2, 2] = cp*ct\n",
    "    \n",
    "    return RE"
   ]
  },
  {
   "cell_type": "code",
   "execution_count": 25,
   "metadata": {},
   "outputs": [],
   "source": [
    "def prop_rot_to_euler(euler):\n",
    "    phi = euler[0]\n",
    "    theta = euler[1]\n",
    "    psi = euler[2]\n",
    "    \n",
    "    cp = np.cos(phi)\n",
    "    sp = np.sin(phi)\n",
    "    \n",
    "    ct = np.cos(theta)\n",
    "    st = np.sin(theta)\n",
    "    tt = np.tan(theta)\n",
    "    \n",
    "    cs = np.cos(psi)\n",
    "    ss = np.sin(psi)\n",
    "    \n",
    "    RE = np.zeros((3,3))\n",
    "    \n",
    "    RE[0, 0] = 1\n",
    "    RE[0, 1] = sp*tt\n",
    "    RE[0, 2] = -cp*tt\n",
    "    RE[1, 1] = cp\n",
    "    RE[1, 2] = sp\n",
    "    RE[2, 1] = -sp/ct\n",
    "    RE[2, 2] = cp/ct\n",
    "    \n",
    "    return RE"
   ]
  },
  {
   "cell_type": "code",
   "execution_count": 26,
   "metadata": {},
   "outputs": [
    {
     "data": {
      "text/plain": [
       "array([ 0.34906585,  0.17453293, -0.08726646])"
      ]
     },
     "execution_count": 26,
     "metadata": {},
     "output_type": "execute_result"
    }
   ],
   "source": [
    "euler"
   ]
  },
  {
   "cell_type": "code",
   "execution_count": 27,
   "metadata": {},
   "outputs": [
    {
     "data": {
      "text/plain": [
       "array([[ 1.00000000e+00,  4.13057706e-19, -2.17329298e-18],\n",
       "       [ 0.00000000e+00,  1.00000000e+00,  4.50889682e-19],\n",
       "       [ 0.00000000e+00, -4.16257982e-18,  1.00000000e+00]])"
      ]
     },
     "execution_count": 27,
     "metadata": {},
     "output_type": "execute_result"
    }
   ],
   "source": [
    "prop_euler_to_rot(euler).dot(prop_rot_to_euler(euler))"
   ]
  },
  {
   "cell_type": "code",
   "execution_count": null,
   "metadata": {},
   "outputs": [],
   "source": []
  }
 ],
 "metadata": {
  "kernelspec": {
   "display_name": "Python 3",
   "language": "python",
   "name": "python3"
  },
  "language_info": {
   "codemirror_mode": {
    "name": "ipython",
    "version": 3
   },
   "file_extension": ".py",
   "mimetype": "text/x-python",
   "name": "python",
   "nbconvert_exporter": "python",
   "pygments_lexer": "ipython3",
   "version": "3.6.8"
  }
 },
 "nbformat": 4,
 "nbformat_minor": 2
}
