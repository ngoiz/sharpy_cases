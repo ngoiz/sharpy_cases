{
 "cells": [
  {
   "cell_type": "markdown",
   "metadata": {},
   "source": [
    "# Debug gamma_dot for linear UVLM solver\n"
   ]
  },
  {
   "cell_type": "code",
   "execution_count": 57,
   "metadata": {},
   "outputs": [],
   "source": [
    "import pandas as pd\n",
    "import numpy as np\n",
    "import matplotlib.pyplot as plt\n",
    "%matplotlib inline"
   ]
  },
  {
   "cell_type": "code",
   "execution_count": 58,
   "metadata": {},
   "outputs": [],
   "source": [
    "data = pd.read_csv('integr_order1.csv')\n",
    "dt = 1 / 4 / 100\n",
    "data['Time'] *= dt"
   ]
  },
  {
   "cell_type": "code",
   "execution_count": 59,
   "metadata": {},
   "outputs": [
    {
     "data": {
      "text/html": [
       "<div>\n",
       "<style scoped>\n",
       "    .dataframe tbody tr th:only-of-type {\n",
       "        vertical-align: middle;\n",
       "    }\n",
       "\n",
       "    .dataframe tbody tr th {\n",
       "        vertical-align: top;\n",
       "    }\n",
       "\n",
       "    .dataframe thead th {\n",
       "        text-align: right;\n",
       "    }\n",
       "</style>\n",
       "<table border=\"1\" class=\"dataframe\">\n",
       "  <thead>\n",
       "    <tr style=\"text-align: right;\">\n",
       "      <th></th>\n",
       "      <th>Time</th>\n",
       "      <th>Int1_Gamma</th>\n",
       "      <th>Int1_Gamma_dot</th>\n",
       "    </tr>\n",
       "  </thead>\n",
       "  <tbody>\n",
       "    <tr>\n",
       "      <th>0</th>\n",
       "      <td>0.0000</td>\n",
       "      <td>-2.18961</td>\n",
       "      <td>0.000000</td>\n",
       "    </tr>\n",
       "    <tr>\n",
       "      <th>1</th>\n",
       "      <td>0.0025</td>\n",
       "      <td>-2.18961</td>\n",
       "      <td>0.000007</td>\n",
       "    </tr>\n",
       "    <tr>\n",
       "      <th>2</th>\n",
       "      <td>0.0050</td>\n",
       "      <td>-2.18961</td>\n",
       "      <td>0.000023</td>\n",
       "    </tr>\n",
       "    <tr>\n",
       "      <th>3</th>\n",
       "      <td>0.0075</td>\n",
       "      <td>-2.18961</td>\n",
       "      <td>0.000041</td>\n",
       "    </tr>\n",
       "    <tr>\n",
       "      <th>4</th>\n",
       "      <td>0.0100</td>\n",
       "      <td>-2.18961</td>\n",
       "      <td>0.000061</td>\n",
       "    </tr>\n",
       "  </tbody>\n",
       "</table>\n",
       "</div>"
      ],
      "text/plain": [
       "     Time  Int1_Gamma  Int1_Gamma_dot\n",
       "0  0.0000    -2.18961        0.000000\n",
       "1  0.0025    -2.18961        0.000007\n",
       "2  0.0050    -2.18961        0.000023\n",
       "3  0.0075    -2.18961        0.000041\n",
       "4  0.0100    -2.18961        0.000061"
      ]
     },
     "execution_count": 59,
     "metadata": {},
     "output_type": "execute_result"
    }
   ],
   "source": [
    "data.head()"
   ]
  },
  {
   "cell_type": "code",
   "execution_count": 73,
   "metadata": {},
   "outputs": [],
   "source": [
    "def dfdx_1(f,dx):\n",
    "    dfdx = np.zeros_like(f)\n",
    "    for i in range(len(f)-1):\n",
    "        dfdx[i+1] = (f[i+1]-f[i])/dx \n",
    "    return dfdx"
   ]
  },
  {
   "cell_type": "code",
   "execution_count": 74,
   "metadata": {},
   "outputs": [],
   "source": [
    "gamm_dot = dfdx_1(data['Int1_Gamma'],dt)"
   ]
  },
  {
   "cell_type": "code",
   "execution_count": 76,
   "metadata": {},
   "outputs": [
    {
     "data": {
      "text/plain": [
       "[<matplotlib.lines.Line2D at 0x7ff1ac7504a8>]"
      ]
     },
     "execution_count": 76,
     "metadata": {},
     "output_type": "execute_result"
    },
    {
     "data": {
      "image/png": "[encoded data removed]",
      "text/plain": [
       "<Figure size 432x288 with 1 Axes>"
      ]
     },
     "metadata": {
      "needs_background": "light"
     },
     "output_type": "display_data"
    }
   ],
   "source": [
    "plt.plot(data['Int1_Gamma'])\n",
    "plt.plot(gamm_dot)\n",
    "plt.plot(data['Int1_Gamma_dot'],'--')"
   ]
  },
  {
   "cell_type": "markdown",
   "metadata": {},
   "source": [
    "# Goland Wing"
   ]
  },
  {
   "cell_type": "code",
   "execution_count": 94,
   "metadata": {},
   "outputs": [
    {
     "data": {
      "text/html": [
       "<div>\n",
       "<style scoped>\n",
       "    .dataframe tbody tr th:only-of-type {\n",
       "        vertical-align: middle;\n",
       "    }\n",
       "\n",
       "    .dataframe tbody tr th {\n",
       "        vertical-align: top;\n",
       "    }\n",
       "\n",
       "    .dataframe thead th {\n",
       "        text-align: right;\n",
       "    }\n",
       "</style>\n",
       "<table border=\"1\" class=\"dataframe\">\n",
       "  <thead>\n",
       "    <tr style=\"text-align: right;\">\n",
       "      <th></th>\n",
       "      <th>Time</th>\n",
       "      <th>panel_gamma NLIN</th>\n",
       "      <th>panel_gamma_dot NLIN</th>\n",
       "      <th>panel_gamma Predictor</th>\n",
       "      <th>panel_gamma_dot Predictor</th>\n",
       "      <th>panel_gamma - No Predictor</th>\n",
       "      <th>panel_gamma_dot - No Predictor</th>\n",
       "    </tr>\n",
       "  </thead>\n",
       "  <tbody>\n",
       "    <tr>\n",
       "      <th>0</th>\n",
       "      <td>0</td>\n",
       "      <td>-1.68707</td>\n",
       "      <td>0.0</td>\n",
       "      <td>-1.68707</td>\n",
       "      <td>0.000000e+00</td>\n",
       "      <td>-1.68707</td>\n",
       "      <td>0.000000e+00</td>\n",
       "    </tr>\n",
       "    <tr>\n",
       "      <th>1</th>\n",
       "      <td>1</td>\n",
       "      <td>-1.68707</td>\n",
       "      <td>0.0</td>\n",
       "      <td>-1.68707</td>\n",
       "      <td>-6.600530e-07</td>\n",
       "      <td>-1.68707</td>\n",
       "      <td>3.319610e-07</td>\n",
       "    </tr>\n",
       "    <tr>\n",
       "      <th>2</th>\n",
       "      <td>2</td>\n",
       "      <td>-1.68707</td>\n",
       "      <td>0.0</td>\n",
       "      <td>-1.68707</td>\n",
       "      <td>-1.917370e-06</td>\n",
       "      <td>-1.68707</td>\n",
       "      <td>1.693850e-06</td>\n",
       "    </tr>\n",
       "    <tr>\n",
       "      <th>3</th>\n",
       "      <td>3</td>\n",
       "      <td>-1.68707</td>\n",
       "      <td>0.0</td>\n",
       "      <td>-1.68707</td>\n",
       "      <td>-2.226030e-06</td>\n",
       "      <td>-1.68707</td>\n",
       "      <td>3.182810e-06</td>\n",
       "    </tr>\n",
       "    <tr>\n",
       "      <th>4</th>\n",
       "      <td>4</td>\n",
       "      <td>-1.68707</td>\n",
       "      <td>0.0</td>\n",
       "      <td>-1.68707</td>\n",
       "      <td>-2.306140e-06</td>\n",
       "      <td>-1.68707</td>\n",
       "      <td>4.602910e-06</td>\n",
       "    </tr>\n",
       "  </tbody>\n",
       "</table>\n",
       "</div>"
      ],
      "text/plain": [
       "   Time  panel_gamma NLIN  panel_gamma_dot NLIN  panel_gamma Predictor  \\\n",
       "0     0          -1.68707                   0.0               -1.68707   \n",
       "1     1          -1.68707                   0.0               -1.68707   \n",
       "2     2          -1.68707                   0.0               -1.68707   \n",
       "3     3          -1.68707                   0.0               -1.68707   \n",
       "4     4          -1.68707                   0.0               -1.68707   \n",
       "\n",
       "   panel_gamma_dot Predictor  panel_gamma - No Predictor  \\\n",
       "0               0.000000e+00                    -1.68707   \n",
       "1              -6.600530e-07                    -1.68707   \n",
       "2              -1.917370e-06                    -1.68707   \n",
       "3              -2.226030e-06                    -1.68707   \n",
       "4              -2.306140e-06                    -1.68707   \n",
       "\n",
       "   panel_gamma_dot - No Predictor  \n",
       "0                    0.000000e+00  \n",
       "1                    3.319610e-07  \n",
       "2                    1.693850e-06  \n",
       "3                    3.182810e-06  \n",
       "4                    4.602910e-06  "
      ]
     },
     "execution_count": 94,
     "metadata": {},
     "output_type": "execute_result"
    }
   ],
   "source": [
    "gol_data = pd.read_csv('goland_gamma_comparison.csv')\n",
    "dt = 1.8288 / 8 / 50\n",
    "gol_data.head()"
   ]
  },
  {
   "cell_type": "markdown",
   "metadata": {},
   "source": [
    "## Non Linear"
   ]
  },
  {
   "cell_type": "code",
   "execution_count": 95,
   "metadata": {},
   "outputs": [],
   "source": [
    "gamma_dot = dfdx_1(gol_data['panel_gamma NLIN'], dt)"
   ]
  },
  {
   "cell_type": "code",
   "execution_count": 97,
   "metadata": {},
   "outputs": [
    {
     "data": {
      "text/plain": [
       "[<matplotlib.lines.Line2D at 0x7ff1ac30c4e0>]"
      ]
     },
     "execution_count": 97,
     "metadata": {},
     "output_type": "execute_result"
    },
    {
     "data": {
      "image/png": "[encoded data removed]",
      "text/plain": [
       "<Figure size 864x720 with 1 Axes>"
      ]
     },
     "metadata": {
      "needs_background": "light"
     },
     "output_type": "display_data"
    }
   ],
   "source": [
    "plt.figure(figsize=(12,10))\n",
    "plt.plot(gol_data['panel_gamma NLIN'])\n",
    "plt.plot(gamma_dot)\n",
    "plt.plot(gol_data['panel_gamma_dot NLIN'])"
   ]
  },
  {
   "cell_type": "markdown",
   "metadata": {},
   "source": [
    "## Predictor"
   ]
  },
  {
   "cell_type": "code",
   "execution_count": 98,
   "metadata": {},
   "outputs": [],
   "source": [
    "gamma_dot = dfdx_1(gol_data['panel_gamma Predictor'], dt)"
   ]
  },
  {
   "cell_type": "code",
   "execution_count": 99,
   "metadata": {},
   "outputs": [
    {
     "data": {
      "text/plain": [
       "[<matplotlib.lines.Line2D at 0x7ff1ac26f2b0>]"
      ]
     },
     "execution_count": 99,
     "metadata": {},
     "output_type": "execute_result"
    },
    {
     "data": {
      "image/png": "[encoded data removed]",
      "text/plain": [
       "<Figure size 432x288 with 1 Axes>"
      ]
     },
     "metadata": {
      "needs_background": "light"
     },
     "output_type": "display_data"
    }
   ],
   "source": [
    "# plt.plot(gol_data['panel_gamma Predictor'])\n",
    "plt.plot(gamma_dot)\n",
    "plt.plot(gol_data['panel_gamma_dot Predictor'])"
   ]
  },
  {
   "cell_type": "markdown",
   "metadata": {},
   "source": [
    "## No predictor"
   ]
  },
  {
   "cell_type": "code",
   "execution_count": 100,
   "metadata": {},
   "outputs": [],
   "source": [
    "gamma_dot = dfdx_1(gol_data['panel_gamma - No Predictor'], dt)"
   ]
  },
  {
   "cell_type": "code",
   "execution_count": 101,
   "metadata": {},
   "outputs": [
    {
     "data": {
      "text/plain": [
       "[<matplotlib.lines.Line2D at 0x7ff1ac247160>]"
      ]
     },
     "execution_count": 101,
     "metadata": {},
     "output_type": "execute_result"
    },
    {
     "data": {
      "image/png": "[encoded data removed]",
      "text/plain": [
       "<Figure size 432x288 with 1 Axes>"
      ]
     },
     "metadata": {
      "needs_background": "light"
     },
     "output_type": "display_data"
    }
   ],
   "source": [
    "plt.plot(gamma_dot)\n",
    "# plt.plot(gol_data['panel_gamma_dot - No Predictor'])\n",
    "plt.plot(gol_data['panel_gamma_dot Predictor'])"
   ]
  },
  {
   "cell_type": "markdown",
   "metadata": {},
   "source": [
    "## Correct state extraction with predictor methods"
   ]
  },
  {
   "cell_type": "code",
   "execution_count": 111,
   "metadata": {},
   "outputs": [
    {
     "data": {
      "text/html": [
       "<div>\n",
       "<style scoped>\n",
       "    .dataframe tbody tr th:only-of-type {\n",
       "        vertical-align: middle;\n",
       "    }\n",
       "\n",
       "    .dataframe tbody tr th {\n",
       "        vertical-align: top;\n",
       "    }\n",
       "\n",
       "    .dataframe thead th {\n",
       "        text-align: right;\n",
       "    }\n",
       "</style>\n",
       "<table border=\"1\" class=\"dataframe\">\n",
       "  <thead>\n",
       "    <tr style=\"text-align: right;\">\n",
       "      <th></th>\n",
       "      <th>Time</th>\n",
       "      <th>panel_gamma Lin Pred</th>\n",
       "      <th>panel_gamma_dot Lin Pred</th>\n",
       "      <th>panel_gamma Lin NoPred</th>\n",
       "      <th>panel_gamma_dot Lin NoPred</th>\n",
       "      <th>panel_gamma_dot NLIN Unsteady</th>\n",
       "      <th>panel_gamma old_code pred</th>\n",
       "      <th>panel_gamma_dot_old code pred</th>\n",
       "    </tr>\n",
       "  </thead>\n",
       "  <tbody>\n",
       "    <tr>\n",
       "      <th>0</th>\n",
       "      <td>0</td>\n",
       "      <td>-1.68707</td>\n",
       "      <td>0.000000e+00</td>\n",
       "      <td>-1.68707</td>\n",
       "      <td>0.000000e+00</td>\n",
       "      <td>0.0</td>\n",
       "      <td>-1.68707</td>\n",
       "      <td>0.000000e+00</td>\n",
       "    </tr>\n",
       "    <tr>\n",
       "      <th>1</th>\n",
       "      <td>1</td>\n",
       "      <td>-1.68707</td>\n",
       "      <td>-6.600530e-07</td>\n",
       "      <td>-1.68707</td>\n",
       "      <td>5.606020e-07</td>\n",
       "      <td>0.0</td>\n",
       "      <td>-1.68707</td>\n",
       "      <td>3.324350e-07</td>\n",
       "    </tr>\n",
       "    <tr>\n",
       "      <th>2</th>\n",
       "      <td>2</td>\n",
       "      <td>-1.68707</td>\n",
       "      <td>-1.917370e-06</td>\n",
       "      <td>-1.68707</td>\n",
       "      <td>3.122650e-06</td>\n",
       "      <td>0.0</td>\n",
       "      <td>-1.68707</td>\n",
       "      <td>1.694410e-06</td>\n",
       "    </tr>\n",
       "    <tr>\n",
       "      <th>3</th>\n",
       "      <td>3</td>\n",
       "      <td>-1.68707</td>\n",
       "      <td>-2.226030e-06</td>\n",
       "      <td>-1.68707</td>\n",
       "      <td>5.934130e-06</td>\n",
       "      <td>0.0</td>\n",
       "      <td>-1.68707</td>\n",
       "      <td>3.183370e-06</td>\n",
       "    </tr>\n",
       "    <tr>\n",
       "      <th>4</th>\n",
       "      <td>4</td>\n",
       "      <td>-1.68707</td>\n",
       "      <td>-2.306140e-06</td>\n",
       "      <td>-1.68707</td>\n",
       "      <td>8.622060e-06</td>\n",
       "      <td>0.0</td>\n",
       "      <td>-1.68707</td>\n",
       "      <td>4.603390e-06</td>\n",
       "    </tr>\n",
       "  </tbody>\n",
       "</table>\n",
       "</div>"
      ],
      "text/plain": [
       "   Time  panel_gamma Lin Pred  panel_gamma_dot Lin Pred  \\\n",
       "0     0              -1.68707              0.000000e+00   \n",
       "1     1              -1.68707             -6.600530e-07   \n",
       "2     2              -1.68707             -1.917370e-06   \n",
       "3     3              -1.68707             -2.226030e-06   \n",
       "4     4              -1.68707             -2.306140e-06   \n",
       "\n",
       "   panel_gamma Lin NoPred  panel_gamma_dot Lin NoPred  \\\n",
       "0                -1.68707                0.000000e+00   \n",
       "1                -1.68707                5.606020e-07   \n",
       "2                -1.68707                3.122650e-06   \n",
       "3                -1.68707                5.934130e-06   \n",
       "4                -1.68707                8.622060e-06   \n",
       "\n",
       "   panel_gamma_dot NLIN Unsteady  panel_gamma old_code pred  \\\n",
       "0                            0.0                   -1.68707   \n",
       "1                            0.0                   -1.68707   \n",
       "2                            0.0                   -1.68707   \n",
       "3                            0.0                   -1.68707   \n",
       "4                            0.0                   -1.68707   \n",
       "\n",
       "   panel_gamma_dot_old code pred  \n",
       "0                   0.000000e+00  \n",
       "1                   3.324350e-07  \n",
       "2                   1.694410e-06  \n",
       "3                   3.183370e-06  \n",
       "4                   4.603390e-06  "
      ]
     },
     "execution_count": 111,
     "metadata": {},
     "output_type": "execute_result"
    }
   ],
   "source": [
    "data = pd.read_csv('gamma_comparison_predictor_methods.csv')\n",
    "dt = 1.8288 / 8 / 50\n",
    "data.head()"
   ]
  },
  {
   "cell_type": "code",
   "execution_count": 112,
   "metadata": {},
   "outputs": [
    {
     "data": {
      "text/plain": [
       "[<matplotlib.lines.Line2D at 0x7ff1abd87b00>]"
      ]
     },
     "execution_count": 112,
     "metadata": {},
     "output_type": "execute_result"
    },
    {
     "data": {
      "image/png": "[encoded data removed]",
      "text/plain": [
       "<Figure size 432x288 with 1 Axes>"
      ]
     },
     "metadata": {
      "needs_background": "light"
     },
     "output_type": "display_data"
    }
   ],
   "source": [
    "plt.plot(data['panel_gamma Lin Pred'])\n",
    "plt.plot(data['panel_gamma Lin NoPred'])\n"
   ]
  },
  {
   "cell_type": "code",
   "execution_count": 113,
   "metadata": {},
   "outputs": [
    {
     "data": {
      "text/plain": [
       "[<matplotlib.lines.Line2D at 0x7ff1abd62b38>]"
      ]
     },
     "execution_count": 113,
     "metadata": {},
     "output_type": "execute_result"
    },
    {
     "data": {
      "image/png": "[encoded data removed]",
      "text/plain": [
       "<Figure size 432x288 with 1 Axes>"
      ]
     },
     "metadata": {
      "needs_background": "light"
     },
     "output_type": "display_data"
    }
   ],
   "source": [
    "plt.plot(data['panel_gamma_dot Lin Pred'])\n",
    "plt.plot(data['panel_gamma_dot Lin NoPred'])"
   ]
  },
  {
   "cell_type": "code",
   "execution_count": 114,
   "metadata": {},
   "outputs": [
    {
     "data": {
      "text/plain": [
       "[<matplotlib.lines.Line2D at 0x7ff1abd92e10>]"
      ]
     },
     "execution_count": 114,
     "metadata": {},
     "output_type": "execute_result"
    },
    {
     "data": {
      "image/png": "[encoded data removed]",
      "text/plain": [
       "<Figure size 432x288 with 1 Axes>"
      ]
     },
     "metadata": {
      "needs_background": "light"
     },
     "output_type": "display_data"
    }
   ],
   "source": [
    "plt.plot(data['panel_gamma_dot Lin NoPred'])\n",
    "plt.plot(dfdx_1(data['panel_gamma Lin NoPred'],dt))"
   ]
  },
  {
   "cell_type": "code",
   "execution_count": 115,
   "metadata": {},
   "outputs": [
    {
     "data": {
      "text/plain": [
       "[<matplotlib.lines.Line2D at 0x7ff1abcd6fd0>]"
      ]
     },
     "execution_count": 115,
     "metadata": {},
     "output_type": "execute_result"
    },
    {
     "data": {
      "image/png": "[encoded data removed]",
      "text/plain": [
       "<Figure size 432x288 with 1 Axes>"
      ]
     },
     "metadata": {
      "needs_background": "light"
     },
     "output_type": "display_data"
    }
   ],
   "source": [
    "plt.plot(data['panel_gamma_dot Lin Pred'])\n",
    "plt.plot(dfdx_1(data['panel_gamma Lin NoPred'],dt))"
   ]
  },
  {
   "cell_type": "code",
   "execution_count": 118,
   "metadata": {},
   "outputs": [
    {
     "data": {
      "text/plain": [
       "[<matplotlib.lines.Line2D at 0x7ff1abbce320>]"
      ]
     },
     "execution_count": 118,
     "metadata": {},
     "output_type": "execute_result"
    },
    {
     "data": {
      "image/png": "[encoded data removed]",
      "text/plain": [
       "<Figure size 432x288 with 1 Axes>"
      ]
     },
     "metadata": {
      "needs_background": "light"
     },
     "output_type": "display_data"
    }
   ],
   "source": [
    "plt.plot(data['panel_gamma old_code pred'])\n",
    "plt.plot(data['panel_gamma Lin NoPred'])"
   ]
  },
  {
   "cell_type": "code",
   "execution_count": 120,
   "metadata": {},
   "outputs": [
    {
     "data": {
      "text/plain": [
       "[<matplotlib.lines.Line2D at 0x7ff1abae7c88>]"
      ]
     },
     "execution_count": 120,
     "metadata": {},
     "output_type": "execute_result"
    },
    {
     "data": {
      "image/png": "[encoded data removed]",
      "text/plain": [
       "<Figure size 432x288 with 1 Axes>"
      ]
     },
     "metadata": {
      "needs_background": "light"
     },
     "output_type": "display_data"
    }
   ],
   "source": [
    "plt.plot(data['panel_gamma_dot_old code pred'])\n",
    "plt.plot(data['panel_gamma_dot Lin NoPred'])\n",
    "plt.plot(dfdx_1(data['panel_gamma_dot Lin NoPred'], dt))"
   ]
  },
  {
   "cell_type": "code",
   "execution_count": null,
   "metadata": {},
   "outputs": [],
   "source": []
  }
 ],
 "metadata": {
  "kernelspec": {
   "display_name": "Python 3",
   "language": "python",
   "name": "python3"
  },
  "language_info": {
   "codemirror_mode": {
    "name": "ipython",
    "version": 3
   },
   "file_extension": ".py",
   "mimetype": "text/x-python",
   "name": "python",
   "nbconvert_exporter": "python",
   "pygments_lexer": "ipython3",
   "version": "3.7.0"
  }
 },
 "nbformat": 4,
 "nbformat_minor": 2
}
